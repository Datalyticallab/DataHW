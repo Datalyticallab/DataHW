{
  "cells": [
    {
      "cell_type": "markdown",
      "metadata": {
        "id": "view-in-github",
        "colab_type": "text"
      },
      "source": [
        "<a href=\"https://colab.research.google.com/github/Datalyticallab/DataHW/blob/main/%D0%94%D0%97_6_2_hw_6_2_%D0%A1%D1%82%D0%B0%D1%82%D0%B8%D1%81%D1%82%D0%B8%D1%87%D0%BD%D1%96_%D1%82%D0%B5%D1%81%D1%82%D0%B8.ipynb\" target=\"_parent\"><img src=\"https://colab.research.google.com/assets/colab-badge.svg\" alt=\"Open In Colab\"/></a>"
      ]
    },
    {
      "cell_type": "markdown",
      "id": "e152f6d6",
      "metadata": {
        "ExecuteTime": {
          "end_time": "2022-12-10T14:29:24.703416Z",
          "start_time": "2022-12-10T14:29:24.688485Z"
        },
        "id": "e152f6d6"
      },
      "source": [
        "## Домашнє завдання 6: Статистичні тести"
      ]
    },
    {
      "cell_type": "code",
      "source": [
        "import pandas as pd\n"
      ],
      "metadata": {
        "id": "8zN1MOgW-QJO"
      },
      "id": "8zN1MOgW-QJO",
      "execution_count": 11,
      "outputs": []
    },
    {
      "cell_type": "code",
      "source": [
        "import numpy as np"
      ],
      "metadata": {
        "id": "Eh3-H4UmAYa_"
      },
      "id": "Eh3-H4UmAYa_",
      "execution_count": 12,
      "outputs": []
    },
    {
      "cell_type": "markdown",
      "id": "cd404683",
      "metadata": {
        "id": "cd404683"
      },
      "source": [
        "0. Зчитайте дані з `data.csv` та запишіть значення колонки data у форматі np.ndarray в змінну data. Ми будемо далі працювати з цією змінною."
      ]
    },
    {
      "cell_type": "code",
      "source": [
        "from google.colab import drive\n",
        "drive.mount('/content/drive')"
      ],
      "metadata": {
        "colab": {
          "base_uri": "https://localhost:8080/"
        },
        "id": "dLBHnEsJAK_J",
        "outputId": "db954cff-df62-49b7-fb1a-fc54f6336a28"
      },
      "id": "dLBHnEsJAK_J",
      "execution_count": 13,
      "outputs": [
        {
          "output_type": "stream",
          "name": "stdout",
          "text": [
            "Drive already mounted at /content/drive; to attempt to forcibly remount, call drive.mount(\"/content/drive\", force_remount=True).\n"
          ]
        }
      ]
    },
    {
      "cell_type": "code",
      "source": [
        "df = pd.read_csv('drive/MyDrive/Colab Notebooks/Модуль 6 Статистика/data_statistics/data.csv')\n"
      ],
      "metadata": {
        "id": "QRIOVW-YAd-2"
      },
      "id": "QRIOVW-YAd-2",
      "execution_count": 24,
      "outputs": []
    },
    {
      "cell_type": "code",
      "source": [
        "data = df.to_numpy()\n"
      ],
      "metadata": {
        "id": "26Nh3iapCSZF"
      },
      "id": "26Nh3iapCSZF",
      "execution_count": 23,
      "outputs": []
    },
    {
      "cell_type": "markdown",
      "id": "3d06cbbf",
      "metadata": {
        "id": "3d06cbbf"
      },
      "source": [
        "Запустіть код нижче. Для коректної робити всіх подальших методів дані мають бути у вигляді одновимірного вектора, тобто мати розмір (100,)."
      ]
    },
    {
      "cell_type": "code",
      "source": [
        "data.shape"
      ],
      "metadata": {
        "id": "Rc_cM9TfhJYI",
        "colab": {
          "base_uri": "https://localhost:8080/"
        },
        "outputId": "f4e6ec26-ad3a-4e7d-b7b2-765827c2efe3"
      },
      "id": "Rc_cM9TfhJYI",
      "execution_count": 16,
      "outputs": [
        {
          "output_type": "execute_result",
          "data": {
            "text/plain": [
              "(100, 2)"
            ]
          },
          "metadata": {},
          "execution_count": 16
        }
      ]
    },
    {
      "cell_type": "markdown",
      "id": "abdcef5d",
      "metadata": {
        "id": "abdcef5d"
      },
      "source": [
        "1. Зчитані дані - це сума покупок в доларах наших покупців на сайті протягом липня 2022 року.\n",
        "\n",
        "До цього місяця, ми мали продажі в середньому на чек $20. Чи вийшло у нас статистично значущо **підвищити** середній чек за останній місяць?\n",
        "\n",
        "Оберіть статистичний тест (z-test чи t-test). Виведіть p-значення статистичного тесту та зробіть висновок, чи ми маємо зараз статистично значущу різницю у розмірі середнього чеку.\n",
        "\n",
        "**Підказка**: тут тест буде одновибірковий."
      ]
    },
    {
      "cell_type": "code",
      "source": [
        "from statsmodels.stats.weightstats import ztest\n",
        "import math"
      ],
      "metadata": {
        "id": "XhxcSbYqhLz9"
      },
      "id": "XhxcSbYqhLz9",
      "execution_count": 17,
      "outputs": []
    },
    {
      "cell_type": "code",
      "source": [
        "null_mean = 20\n",
        "alpha = 0.05\n"
      ],
      "metadata": {
        "id": "jMtZVTIXcRpQ"
      },
      "id": "jMtZVTIXcRpQ",
      "execution_count": 18,
      "outputs": []
    },
    {
      "cell_type": "code",
      "source": [
        "ztest_Score, p_value = ztest(data[:,1], value = null_mean, alternative='larger')"
      ],
      "metadata": {
        "id": "hmQKfISdc6AR"
      },
      "id": "hmQKfISdc6AR",
      "execution_count": 21,
      "outputs": []
    },
    {
      "cell_type": "code",
      "source": [
        "ztest_Score, p_value"
      ],
      "metadata": {
        "colab": {
          "base_uri": "https://localhost:8080/"
        },
        "id": "teX64AKVdDnf",
        "outputId": "e0870c8b-b714-45e7-b242-81062933ecc2"
      },
      "id": "teX64AKVdDnf",
      "execution_count": 22,
      "outputs": [
        {
          "output_type": "execute_result",
          "data": {
            "text/plain": [
              "(-0.9953477389335053, 0.8402164165464012)"
            ]
          },
          "metadata": {},
          "execution_count": 22
        }
      ]
    },
    {
      "cell_type": "markdown",
      "source": [
        "**Вибрала Z-тест, бо розмір вибірки великий (більше 100). Отримали p-значення = 0,84, що значно більше рівня значущості в 5%. Отже не можемо відкинути нульову гіпотезу. Тобто не можемо стверджувати, що у компанії вийшло значущо підвищити середній чек.**"
      ],
      "metadata": {
        "id": "pcC55CEofWtE"
      },
      "id": "pcC55CEofWtE"
    },
    {
      "cell_type": "markdown",
      "id": "05219e41",
      "metadata": {
        "ExecuteTime": {
          "end_time": "2022-12-10T14:52:46.140204Z",
          "start_time": "2022-12-10T14:52:46.112068Z"
        },
        "id": "05219e41"
      },
      "source": [
        "2. Пройшов час, і ми зібрали дані про продажі за серпень 2022 року, які зберігли у файл `data_2.csv`. Продажів було дещо більше, але чи змінився стат. значущо середній чек порівняно з липнем 2022? Перевірте це використовуючи ztest.\n",
        "\n",
        "  Виведіть p-значення статистичного тесту та зробіть висновок, чи ми маємо зараз статистично значущу різницю у розмірі середнього чека між двома місяцями.\n",
        "\n",
        "  **Підказка**: треба провести двовибірковий ztest з Н0 - що середні значення в липні та серпні 2022 року - однакові. Для кращого розуміння ситуації, можливо вам буде цікаво переглянути, які середні показники чеку були в кожен з місяців. Порівняйте свій висновок з простого спостереження середніх значень і висновок статистичного тесту. Чи вони збігаються?"
      ]
    },
    {
      "cell_type": "code",
      "source": [
        "df_2 = pd.read_csv('drive/MyDrive/Colab Notebooks/Модуль 6 Статистика/data_statistics/data_2.csv')\n",
        "data_2 = df_2.to_numpy()\n",
        "data_2.shape"
      ],
      "metadata": {
        "id": "hbs7LPI4hP-6",
        "colab": {
          "base_uri": "https://localhost:8080/"
        },
        "outputId": "4d8340bb-3cc1-47c5-fd1d-23b6e7caed50"
      },
      "id": "hbs7LPI4hP-6",
      "execution_count": 25,
      "outputs": [
        {
          "output_type": "execute_result",
          "data": {
            "text/plain": [
              "(120, 1)"
            ]
          },
          "metadata": {},
          "execution_count": 25
        }
      ]
    },
    {
      "cell_type": "code",
      "source": [
        "np.mean(data[:,1]), np.mean(data_2)"
      ],
      "metadata": {
        "colab": {
          "base_uri": "https://localhost:8080/"
        },
        "id": "trbVC2rxgXZX",
        "outputId": "e8b532f9-14ab-465d-98ef-8e74b137d05b"
      },
      "id": "trbVC2rxgXZX",
      "execution_count": 27,
      "outputs": [
        {
          "output_type": "execute_result",
          "data": {
            "text/plain": [
              "(19.37755319670441, 19.37322276512519)"
            ]
          },
          "metadata": {},
          "execution_count": 27
        }
      ]
    },
    {
      "cell_type": "code",
      "source": [
        "ztest(data[:,1], data_2, value=0)"
      ],
      "metadata": {
        "colab": {
          "base_uri": "https://localhost:8080/"
        },
        "id": "9HVWJNcrgsm1",
        "outputId": "a756d7e9-8e7a-4119-b0bc-780c595ba8d2"
      },
      "id": "9HVWJNcrgsm1",
      "execution_count": 28,
      "outputs": [
        {
          "output_type": "execute_result",
          "data": {
            "text/plain": [
              "(array([0.00524667]), array([0.99581378]))"
            ]
          },
          "metadata": {},
          "execution_count": 28
        }
      ]
    },
    {
      "cell_type": "markdown",
      "source": [
        "p-value має значення 0,99, що більше, ніж, 0,05, тож не можна стверджувати, що є значуща різниця у розмірі середього чека у серпні, порівняно з липнем.\n",
        "Середній чек в липні та серпні також не відрізняється, що підтверджує висновки за результатами z-тесту"
      ],
      "metadata": {
        "id": "0HSINWgahZK4"
      },
      "id": "0HSINWgahZK4"
    }
  ],
  "metadata": {
    "hide_input": false,
    "kernelspec": {
      "display_name": "Python 3 (ipykernel)",
      "language": "python",
      "name": "python3"
    },
    "language_info": {
      "codemirror_mode": {
        "name": "ipython",
        "version": 3
      },
      "file_extension": ".py",
      "mimetype": "text/x-python",
      "name": "python",
      "nbconvert_exporter": "python",
      "pygments_lexer": "ipython3",
      "version": "3.11.3"
    },
    "toc": {
      "base_numbering": 1,
      "nav_menu": {},
      "number_sections": true,
      "sideBar": true,
      "skip_h1_title": false,
      "title_cell": "Table of Contents",
      "title_sidebar": "Contents",
      "toc_cell": false,
      "toc_position": {},
      "toc_section_display": true,
      "toc_window_display": false
    },
    "varInspector": {
      "cols": {
        "lenName": 16,
        "lenType": 16,
        "lenVar": 40
      },
      "kernels_config": {
        "python": {
          "delete_cmd_postfix": "",
          "delete_cmd_prefix": "del ",
          "library": "var_list.py",
          "varRefreshCmd": "print(var_dic_list())"
        },
        "r": {
          "delete_cmd_postfix": ") ",
          "delete_cmd_prefix": "rm(",
          "library": "var_list.r",
          "varRefreshCmd": "cat(var_dic_list()) "
        }
      },
      "types_to_exclude": [
        "module",
        "function",
        "builtin_function_or_method",
        "instance",
        "_Feature"
      ],
      "window_display": false
    },
    "colab": {
      "provenance": [],
      "include_colab_link": true
    }
  },
  "nbformat": 4,
  "nbformat_minor": 5
}